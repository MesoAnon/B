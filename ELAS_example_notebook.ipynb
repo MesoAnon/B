{
 "cells": [
  {
   "cell_type": "code",
   "execution_count": null,
   "metadata": {
    "vscode": {
     "languageId": "plaintext"
    }
   },
   "outputs": [],
   "source": [
    "# global example, from document selection, extractive, abstractive\n",
    "# just call functions\n",
    "# maybe two, for multilex and eurlexsum"
   ]
  }
 ],
 "metadata": {
  "language_info": {
   "name": "python"
  }
 },
 "nbformat": 4,
 "nbformat_minor": 2
}
