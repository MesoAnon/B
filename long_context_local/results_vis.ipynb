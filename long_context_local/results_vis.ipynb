{
 "cells": [
  {
   "cell_type": "code",
   "execution_count": 3,
   "metadata": {},
   "outputs": [],
   "source": [
    "import pandas as pd\n",
    "import pickle"
   ]
  },
  {
   "cell_type": "code",
   "execution_count": 7,
   "metadata": {},
   "outputs": [
    {
     "data": {
      "text/plain": [
       "{'model': ['primera_short',\n",
       "  'primera_short',\n",
       "  'primera_short',\n",
       "  'primera_short',\n",
       "  'primera_short'],\n",
       " 'selection_type': ['None', 'None', 'None', 'None', 'None'],\n",
       " 'prompt_type': ['None', 'None', 'None', 'None', 'None'],\n",
       " 'score_value': [0.381, 0.15, 0.252, 0.6311895733626632, 0],\n",
       " 'score_type': ['rouge1', 'rouge2', 'rougeL', 'bert_score', 'mover_score']}"
      ]
     },
     "execution_count": 7,
     "metadata": {},
     "output_type": "execute_result"
    }
   ],
   "source": [
    "df = pd.read_pickle(\"results_multilex_short_primera_short_rep_att.pickle\")\n",
    "# df[\"selection_type\"] = [\"None\"] * len(df[\"model\"])\n",
    "df\n",
    "# df = pd.DataFrame(df)\n",
    "\n",
    "# df"
   ]
  }
 ],
 "metadata": {
  "kernelspec": {
   "display_name": "Python 3",
   "language": "python",
   "name": "python3"
  },
  "language_info": {
   "codemirror_mode": {
    "name": "ipython",
    "version": 3
   },
   "file_extension": ".py",
   "mimetype": "text/x-python",
   "name": "python",
   "nbconvert_exporter": "python",
   "pygments_lexer": "ipython3",
   "version": "3.10.12"
  }
 },
 "nbformat": 4,
 "nbformat_minor": 2
}
